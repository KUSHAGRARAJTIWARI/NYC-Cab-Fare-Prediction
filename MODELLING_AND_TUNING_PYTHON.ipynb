{
 "cells": [
  {
   "cell_type": "code",
   "execution_count": 1,
   "metadata": {},
   "outputs": [],
   "source": [
    "import os\n",
    "import pandas as pd\n",
    "import numpy as np\n",
    "import matplotlib.pyplot as plt\n",
    "import seaborn as sns\n",
    "from datetime import datetime\n",
    "import calendar\n",
    "import warnings\n",
    "from sklearn.model_selection import train_test_split\n",
    "from sklearn.metrics import mean_squared_error\n",
    "from sklearn.linear_model import LinearRegression\n",
    "from sklearn.model_selection import GridSearchCV\n",
    "from sklearn.ensemble import RandomForestRegressor\n",
    "import lightgbm as lgb\n",
    "from sklearn.metrics import roc_auc_score\n",
    "from hyperopt import hp, fmin, tpe, STATUS_OK, Trials\n",
    "warnings.filterwarnings('ignore')"
   ]
  },
  {
   "cell_type": "code",
   "execution_count": 2,
   "metadata": {},
   "outputs": [
    {
     "data": {
      "text/plain": [
       "'D:\\\\DATA SCIENCE\\\\COURSE\\\\Projects\\\\Project_Cab_Fare_Prediction'"
      ]
     },
     "execution_count": 2,
     "metadata": {},
     "output_type": "execute_result"
    }
   ],
   "source": [
    "os.chdir(\"D:\\DATA SCIENCE\\COURSE\\Projects\\Project_Cab_Fare_Prediction\")\n",
    "os.getcwd()"
   ]
  },
  {
   "cell_type": "code",
   "execution_count": 3,
   "metadata": {},
   "outputs": [
    {
     "data": {
      "text/plain": [
       "((9914, 20), (15698, 21))"
      ]
     },
     "execution_count": 3,
     "metadata": {},
     "output_type": "execute_result"
    }
   ],
   "source": [
    "train=pd.read_csv(\"cleaned_train.csv\")\n",
    "test=pd.read_csv(\"cleaned_test.csv\")\n",
    "test.shape,train.shape"
   ]
  },
  {
   "cell_type": "code",
   "execution_count": 4,
   "metadata": {},
   "outputs": [
    {
     "data": {
      "text/plain": [
       "Index(['fare_amount', 'pickup_datetime', 'pickup_longitude', 'pickup_latitude',\n",
       "       'dropoff_longitude', 'dropoff_latitude', 'pickup_date', 'pickup_day',\n",
       "       'pickup_hour', 'pickup_day_of_week', 'pickup_month', 'pickup_year',\n",
       "       'distance_km', 'is_pickup_near_jfk', 'is_dropoff_near_jfk',\n",
       "       'is_pickup_near_lgr', 'is_dropoff_near_lgr', 'is_pickup_near_newark',\n",
       "       'is_dropoff_near_newark', 'pickup_borough', 'dropoff_borough'],\n",
       "      dtype='object')"
      ]
     },
     "execution_count": 4,
     "metadata": {},
     "output_type": "execute_result"
    }
   ],
   "source": [
    "train.columns"
   ]
  },
  {
   "cell_type": "code",
   "execution_count": 5,
   "metadata": {},
   "outputs": [],
   "source": [
    "#clean data for baseline model using only date and time features no extra features\n",
    "def processDataForModelling(data,target,drop_cols,is_train=True,split=0.25):\n",
    "    data_1=data.drop(drop_cols,axis=1)\n",
    "    # One hot Encoding\n",
    "    #data_1=pd.get_dummies(data_1)\n",
    "    if is_train==True:\n",
    "        X=data_1.drop([target],axis=1)\n",
    "        Y=data_1[target]\n",
    "        X_train, X_test, Y_train, Y_test = train_test_split(X,Y, test_size=split,random_state=123)\n",
    "        \n",
    "        print(\"Shape of Training Features\",X_train.shape)\n",
    "        print(\"Shape of Validation Features \",X_test.shape)\n",
    "        \n",
    "        return X_train, X_test, Y_train, Y_test\n",
    "    else:\n",
    "        print (\"Shape of Test Data\",data_1.shape)\n",
    "        return data_1\n",
    "        "
   ]
  },
  {
   "cell_type": "code",
   "execution_count": 6,
   "metadata": {
    "scrolled": true
   },
   "outputs": [
    {
     "name": "stdout",
     "output_type": "stream",
     "text": [
      "Shape of Training Features (12558, 9)\n",
      "Shape of Validation Features  (3140, 9)\n"
     ]
    }
   ],
   "source": [
    "X_train, X_test, Y_train, Y_test=processDataForModelling(train,'fare_amount',drop_cols=['distance_km', 'is_pickup_near_jfk',\n",
    "       'is_dropoff_near_jfk', 'is_pickup_near_lgr', 'is_dropoff_near_lgr',\n",
    "       'is_pickup_near_newark', 'is_dropoff_near_newark', 'pickup_borough',\n",
    "       'dropoff_borough','pickup_datetime','pickup_date'],is_train=True,split=0.2)\n"
   ]
  },
  {
   "cell_type": "code",
   "execution_count": 7,
   "metadata": {},
   "outputs": [
    {
     "data": {
      "text/plain": [
       "((12558,), (3140,))"
      ]
     },
     "execution_count": 7,
     "metadata": {},
     "output_type": "execute_result"
    }
   ],
   "source": [
    "Y_train.shape, Y_test.shape"
   ]
  },
  {
   "cell_type": "code",
   "execution_count": 8,
   "metadata": {},
   "outputs": [
    {
     "name": "stdout",
     "output_type": "stream",
     "text": [
      "Shape of Test Data (9914, 9)\n"
     ]
    }
   ],
   "source": [
    "test_data=processDataForModelling(test,'fare_amount',drop_cols=['distance_km', 'is_pickup_near_jfk',\n",
    "       'is_dropoff_near_jfk', 'is_pickup_near_lgr', 'is_dropoff_near_lgr',\n",
    "       'is_pickup_near_newark', 'is_dropoff_near_newark', 'pickup_borough',\n",
    "       'dropoff_borough','pickup_datetime','pickup_date'],is_train=False,split=0.2)\n"
   ]
  },
  {
   "cell_type": "code",
   "execution_count": 9,
   "metadata": {},
   "outputs": [
    {
     "data": {
      "text/plain": [
       "pickup_longitude      float64\n",
       "pickup_latitude       float64\n",
       "dropoff_longitude     float64\n",
       "dropoff_latitude      float64\n",
       "pickup_day              int64\n",
       "pickup_hour             int64\n",
       "pickup_day_of_week      int64\n",
       "pickup_month            int64\n",
       "pickup_year             int64\n",
       "dtype: object"
      ]
     },
     "execution_count": 9,
     "metadata": {},
     "output_type": "execute_result"
    }
   ],
   "source": [
    "X_train.dtypes"
   ]
  },
  {
   "cell_type": "code",
   "execution_count": 10,
   "metadata": {},
   "outputs": [
    {
     "data": {
      "text/plain": [
       "11.205914158305488"
      ]
     },
     "execution_count": 10,
     "metadata": {},
     "output_type": "execute_result"
    }
   ],
   "source": [
    "avg_fare=np.mean(Y_train)\n",
    "avg_fare"
   ]
  },
  {
   "cell_type": "code",
   "execution_count": 11,
   "metadata": {},
   "outputs": [
    {
     "name": "stdout",
     "output_type": "stream",
     "text": [
      "Basline RMSE of Validation data : 9.812912543976315\n"
     ]
    }
   ],
   "source": [
    "baseline_pred=np.repeat(avg_fare,Y_test.shape[0])\n",
    "baseline_rmse=np.sqrt(mean_squared_error(baseline_pred, Y_test))\n",
    "print(\"Basline RMSE of Validation data :\",baseline_rmse)"
   ]
  },
  {
   "cell_type": "code",
   "execution_count": 12,
   "metadata": {},
   "outputs": [
    {
     "name": "stdout",
     "output_type": "stream",
     "text": [
      "RMSE for Linear Regression is  7.93711819528166\n"
     ]
    }
   ],
   "source": [
    "lm = LinearRegression()\n",
    "lm.fit(X_train,Y_train)\n",
    "Y_pred=lm.predict(X_test)\n",
    "lm_rmse=np.sqrt(mean_squared_error(Y_pred, Y_test))\n",
    "print(\"RMSE for Linear Regression is \",lm_rmse)"
   ]
  },
  {
   "cell_type": "code",
   "execution_count": 13,
   "metadata": {},
   "outputs": [
    {
     "data": {
      "text/plain": [
       "RandomForestRegressor(bootstrap=True, criterion='mse', max_depth=None,\n",
       "           max_features='auto', max_leaf_nodes=None,\n",
       "           min_impurity_decrease=0.0, min_impurity_split=None,\n",
       "           min_samples_leaf=1, min_samples_split=2,\n",
       "           min_weight_fraction_leaf=0.0, n_estimators=100, n_jobs=-1,\n",
       "           oob_score=False, random_state=883, verbose=0, warm_start=False)"
      ]
     },
     "execution_count": 13,
     "metadata": {},
     "output_type": "execute_result"
    }
   ],
   "source": [
    "rf = RandomForestRegressor(n_estimators = 100, random_state = 883,n_jobs=-1)\n",
    "rf.fit(X_train,Y_train)"
   ]
  },
  {
   "cell_type": "code",
   "execution_count": 14,
   "metadata": {},
   "outputs": [
    {
     "name": "stdout",
     "output_type": "stream",
     "text": [
      "RMSE for Random Forest is  4.4694889704461165\n"
     ]
    }
   ],
   "source": [
    "rf_pred= rf.predict(X_test)\n",
    "rf_rmse=np.sqrt(mean_squared_error(rf_pred, Y_test))\n",
    "print(\"RMSE for Random Forest is \",rf_rmse)\n"
   ]
  },
  {
   "cell_type": "code",
   "execution_count": 15,
   "metadata": {},
   "outputs": [
    {
     "name": "stdout",
     "output_type": "stream",
     "text": [
      "[5]\tcv_agg's rmse: 7.19362 + 0.457292\n",
      "[10]\tcv_agg's rmse: 6.21298 + 0.412021\n",
      "[15]\tcv_agg's rmse: 5.71373 + 0.394739\n",
      "[20]\tcv_agg's rmse: 5.41589 + 0.387552\n",
      "[25]\tcv_agg's rmse: 5.19727 + 0.385099\n",
      "[30]\tcv_agg's rmse: 5.05909 + 0.37704\n",
      "[35]\tcv_agg's rmse: 4.93604 + 0.384791\n",
      "[40]\tcv_agg's rmse: 4.84461 + 0.38501\n",
      "[45]\tcv_agg's rmse: 4.76459 + 0.386015\n",
      "[50]\tcv_agg's rmse: 4.70429 + 0.396745\n",
      "[55]\tcv_agg's rmse: 4.64565 + 0.399968\n",
      "[60]\tcv_agg's rmse: 4.59658 + 0.402448\n",
      "[65]\tcv_agg's rmse: 4.54766 + 0.399641\n",
      "[70]\tcv_agg's rmse: 4.50494 + 0.400925\n",
      "[75]\tcv_agg's rmse: 4.46894 + 0.408746\n",
      "[80]\tcv_agg's rmse: 4.43666 + 0.413989\n",
      "[85]\tcv_agg's rmse: 4.40689 + 0.419165\n",
      "[90]\tcv_agg's rmse: 4.38073 + 0.423097\n",
      "[95]\tcv_agg's rmse: 4.35971 + 0.429007\n",
      "[100]\tcv_agg's rmse: 4.34135 + 0.429228\n"
     ]
    }
   ],
   "source": [
    "train_data=lgb.Dataset(X_train,label=Y_train)\n",
    "param = {'num_leaves':10, 'num_trees':100, 'objective':'regression','metric':'l2_root'}\n",
    "cv_results = lgb.cv(param, train_data, num_boost_round=100, nfold=15,verbose_eval=5, early_stopping_rounds=15,stratified=False)"
   ]
  },
  {
   "cell_type": "code",
   "execution_count": 16,
   "metadata": {},
   "outputs": [
    {
     "name": "stdout",
     "output_type": "stream",
     "text": [
      "Best num_boost_round: 100\n"
     ]
    }
   ],
   "source": [
    "print('Best num_boost_round:', len(cv_results['rmse-mean']))"
   ]
  },
  {
   "cell_type": "code",
   "execution_count": 17,
   "metadata": {},
   "outputs": [],
   "source": [
    "lgb_bst=lgb.train(param,train_data,len(cv_results['rmse-mean']))"
   ]
  },
  {
   "cell_type": "code",
   "execution_count": 18,
   "metadata": {},
   "outputs": [
    {
     "name": "stdout",
     "output_type": "stream",
     "text": [
      "RMSE for Light GBM is  4.8669290441651505\n"
     ]
    }
   ],
   "source": [
    "lgb_pred = lgb_bst.predict(X_test)\n",
    "lgb_rmse=np.sqrt(mean_squared_error(lgb_pred, Y_test))\n",
    "print(\"RMSE for Light GBM is \",lgb_rmse)"
   ]
  },
  {
   "cell_type": "code",
   "execution_count": 19,
   "metadata": {},
   "outputs": [],
   "source": [
    "model_pred=pd.DataFrame()\n",
    "model_pred['model_name']=['Linear Regression','Random Forest','Light GBM']\n",
    "model_pred['test_rmse']=[lm_rmse,rf_rmse,lgb_rmse]"
   ]
  },
  {
   "cell_type": "code",
   "execution_count": 20,
   "metadata": {},
   "outputs": [
    {
     "data": {
      "text/html": [
       "<div>\n",
       "<style scoped>\n",
       "    .dataframe tbody tr th:only-of-type {\n",
       "        vertical-align: middle;\n",
       "    }\n",
       "\n",
       "    .dataframe tbody tr th {\n",
       "        vertical-align: top;\n",
       "    }\n",
       "\n",
       "    .dataframe thead th {\n",
       "        text-align: right;\n",
       "    }\n",
       "</style>\n",
       "<table border=\"1\" class=\"dataframe\">\n",
       "  <thead>\n",
       "    <tr style=\"text-align: right;\">\n",
       "      <th></th>\n",
       "      <th>model_name</th>\n",
       "      <th>test_rmse</th>\n",
       "      <th>train_rmse</th>\n",
       "      <th>variance</th>\n",
       "    </tr>\n",
       "  </thead>\n",
       "  <tbody>\n",
       "    <tr>\n",
       "      <th>0</th>\n",
       "      <td>Linear Regression</td>\n",
       "      <td>7.937118</td>\n",
       "      <td>7.856423</td>\n",
       "      <td>-0.080695</td>\n",
       "    </tr>\n",
       "    <tr>\n",
       "      <th>1</th>\n",
       "      <td>Random Forest</td>\n",
       "      <td>4.469489</td>\n",
       "      <td>1.526057</td>\n",
       "      <td>-2.943432</td>\n",
       "    </tr>\n",
       "    <tr>\n",
       "      <th>2</th>\n",
       "      <td>Light GBM</td>\n",
       "      <td>4.866929</td>\n",
       "      <td>3.976304</td>\n",
       "      <td>-0.890625</td>\n",
       "    </tr>\n",
       "  </tbody>\n",
       "</table>\n",
       "</div>"
      ],
      "text/plain": [
       "          model_name  test_rmse  train_rmse  variance\n",
       "0  Linear Regression   7.937118    7.856423 -0.080695\n",
       "1      Random Forest   4.469489    1.526057 -2.943432\n",
       "2          Light GBM   4.866929    3.976304 -0.890625"
      ]
     },
     "execution_count": 20,
     "metadata": {},
     "output_type": "execute_result"
    }
   ],
   "source": [
    "lm_train_rmse=np.sqrt(mean_squared_error(lm.predict(X_train), Y_train))\n",
    "rf_train_rmse=np.sqrt(mean_squared_error(rf.predict(X_train),Y_train))\n",
    "lgb_train_rmse=np.sqrt(mean_squared_error(lgb_bst.predict(X_train),Y_train))\n",
    "model_pred['train_rmse']=[lm_train_rmse,rf_train_rmse,lgb_train_rmse]\n",
    "model_pred['variance']=model_pred['train_rmse'] - model_pred['test_rmse']\n",
    "model_pred"
   ]
  },
  {
   "cell_type": "markdown",
   "metadata": {},
   "source": [
    "We can see that there is a very high difference in the train and test RMSE for Random Forest, though overall the test-rmse of Random Forest is the best. Very high variance is a sign of overfitting we will consider LightGBM as the model and add features and tune this model."
   ]
  },
  {
   "cell_type": "code",
   "execution_count": 21,
   "metadata": {},
   "outputs": [
    {
     "data": {
      "text/plain": [
       "(15698, 21)"
      ]
     },
     "execution_count": 21,
     "metadata": {},
     "output_type": "execute_result"
    }
   ],
   "source": [
    "#feature engineering\n",
    "train.shape"
   ]
  },
  {
   "cell_type": "code",
   "execution_count": 22,
   "metadata": {},
   "outputs": [
    {
     "data": {
      "text/html": [
       "<div>\n",
       "<style scoped>\n",
       "    .dataframe tbody tr th:only-of-type {\n",
       "        vertical-align: middle;\n",
       "    }\n",
       "\n",
       "    .dataframe tbody tr th {\n",
       "        vertical-align: top;\n",
       "    }\n",
       "\n",
       "    .dataframe thead th {\n",
       "        text-align: right;\n",
       "    }\n",
       "</style>\n",
       "<table border=\"1\" class=\"dataframe\">\n",
       "  <thead>\n",
       "    <tr style=\"text-align: right;\">\n",
       "      <th></th>\n",
       "      <th>fare_amount</th>\n",
       "      <th>pickup_datetime</th>\n",
       "      <th>pickup_longitude</th>\n",
       "      <th>pickup_latitude</th>\n",
       "      <th>dropoff_longitude</th>\n",
       "      <th>dropoff_latitude</th>\n",
       "      <th>pickup_date</th>\n",
       "      <th>pickup_day</th>\n",
       "      <th>pickup_hour</th>\n",
       "      <th>pickup_day_of_week</th>\n",
       "      <th>...</th>\n",
       "      <th>pickup_year</th>\n",
       "      <th>distance_km</th>\n",
       "      <th>is_pickup_near_jfk</th>\n",
       "      <th>is_dropoff_near_jfk</th>\n",
       "      <th>is_pickup_near_lgr</th>\n",
       "      <th>is_dropoff_near_lgr</th>\n",
       "      <th>is_pickup_near_newark</th>\n",
       "      <th>is_dropoff_near_newark</th>\n",
       "      <th>pickup_borough</th>\n",
       "      <th>dropoff_borough</th>\n",
       "    </tr>\n",
       "  </thead>\n",
       "  <tbody>\n",
       "    <tr>\n",
       "      <th>0</th>\n",
       "      <td>4.5</td>\n",
       "      <td>2009-06-15 17:26:21+00:00</td>\n",
       "      <td>-73.844311</td>\n",
       "      <td>40.721319</td>\n",
       "      <td>-73.841610</td>\n",
       "      <td>40.712278</td>\n",
       "      <td>2009-06-15</td>\n",
       "      <td>15</td>\n",
       "      <td>17</td>\n",
       "      <td>1</td>\n",
       "      <td>...</td>\n",
       "      <td>2009</td>\n",
       "      <td>1.031088</td>\n",
       "      <td>False</td>\n",
       "      <td>False</td>\n",
       "      <td>False</td>\n",
       "      <td>False</td>\n",
       "      <td>False</td>\n",
       "      <td>False</td>\n",
       "      <td>queens</td>\n",
       "      <td>queens</td>\n",
       "    </tr>\n",
       "    <tr>\n",
       "      <th>1</th>\n",
       "      <td>16.9</td>\n",
       "      <td>2010-01-05 16:52:16+00:00</td>\n",
       "      <td>-74.016048</td>\n",
       "      <td>40.711303</td>\n",
       "      <td>-73.979268</td>\n",
       "      <td>40.782004</td>\n",
       "      <td>2010-01-05</td>\n",
       "      <td>5</td>\n",
       "      <td>16</td>\n",
       "      <td>2</td>\n",
       "      <td>...</td>\n",
       "      <td>2010</td>\n",
       "      <td>8.452786</td>\n",
       "      <td>False</td>\n",
       "      <td>False</td>\n",
       "      <td>False</td>\n",
       "      <td>False</td>\n",
       "      <td>False</td>\n",
       "      <td>False</td>\n",
       "      <td>manhattan</td>\n",
       "      <td>manhattan</td>\n",
       "    </tr>\n",
       "    <tr>\n",
       "      <th>2</th>\n",
       "      <td>5.7</td>\n",
       "      <td>2011-08-18 00:35:00+00:00</td>\n",
       "      <td>-73.982738</td>\n",
       "      <td>40.761270</td>\n",
       "      <td>-73.991242</td>\n",
       "      <td>40.750562</td>\n",
       "      <td>2011-08-18</td>\n",
       "      <td>18</td>\n",
       "      <td>0</td>\n",
       "      <td>4</td>\n",
       "      <td>...</td>\n",
       "      <td>2011</td>\n",
       "      <td>1.389961</td>\n",
       "      <td>False</td>\n",
       "      <td>False</td>\n",
       "      <td>False</td>\n",
       "      <td>False</td>\n",
       "      <td>False</td>\n",
       "      <td>False</td>\n",
       "      <td>manhattan</td>\n",
       "      <td>manhattan</td>\n",
       "    </tr>\n",
       "    <tr>\n",
       "      <th>3</th>\n",
       "      <td>7.7</td>\n",
       "      <td>2012-04-21 04:30:42+00:00</td>\n",
       "      <td>-73.987130</td>\n",
       "      <td>40.733143</td>\n",
       "      <td>-73.991567</td>\n",
       "      <td>40.758092</td>\n",
       "      <td>2012-04-21</td>\n",
       "      <td>21</td>\n",
       "      <td>4</td>\n",
       "      <td>6</td>\n",
       "      <td>...</td>\n",
       "      <td>2012</td>\n",
       "      <td>2.800149</td>\n",
       "      <td>False</td>\n",
       "      <td>False</td>\n",
       "      <td>False</td>\n",
       "      <td>False</td>\n",
       "      <td>False</td>\n",
       "      <td>False</td>\n",
       "      <td>manhattan</td>\n",
       "      <td>manhattan</td>\n",
       "    </tr>\n",
       "    <tr>\n",
       "      <th>4</th>\n",
       "      <td>5.3</td>\n",
       "      <td>2010-03-09 07:51:00+00:00</td>\n",
       "      <td>-73.968095</td>\n",
       "      <td>40.768008</td>\n",
       "      <td>-73.956655</td>\n",
       "      <td>40.783762</td>\n",
       "      <td>2010-03-09</td>\n",
       "      <td>9</td>\n",
       "      <td>7</td>\n",
       "      <td>2</td>\n",
       "      <td>...</td>\n",
       "      <td>2010</td>\n",
       "      <td>1.999784</td>\n",
       "      <td>False</td>\n",
       "      <td>False</td>\n",
       "      <td>False</td>\n",
       "      <td>False</td>\n",
       "      <td>False</td>\n",
       "      <td>False</td>\n",
       "      <td>manhattan</td>\n",
       "      <td>manhattan</td>\n",
       "    </tr>\n",
       "  </tbody>\n",
       "</table>\n",
       "<p>5 rows × 21 columns</p>\n",
       "</div>"
      ],
      "text/plain": [
       "   fare_amount            pickup_datetime  pickup_longitude  pickup_latitude  \\\n",
       "0          4.5  2009-06-15 17:26:21+00:00        -73.844311        40.721319   \n",
       "1         16.9  2010-01-05 16:52:16+00:00        -74.016048        40.711303   \n",
       "2          5.7  2011-08-18 00:35:00+00:00        -73.982738        40.761270   \n",
       "3          7.7  2012-04-21 04:30:42+00:00        -73.987130        40.733143   \n",
       "4          5.3  2010-03-09 07:51:00+00:00        -73.968095        40.768008   \n",
       "\n",
       "   dropoff_longitude  dropoff_latitude pickup_date  pickup_day  pickup_hour  \\\n",
       "0         -73.841610         40.712278  2009-06-15          15           17   \n",
       "1         -73.979268         40.782004  2010-01-05           5           16   \n",
       "2         -73.991242         40.750562  2011-08-18          18            0   \n",
       "3         -73.991567         40.758092  2012-04-21          21            4   \n",
       "4         -73.956655         40.783762  2010-03-09           9            7   \n",
       "\n",
       "   pickup_day_of_week  ...  pickup_year  distance_km  is_pickup_near_jfk  \\\n",
       "0                   1  ...         2009     1.031088               False   \n",
       "1                   2  ...         2010     8.452786               False   \n",
       "2                   4  ...         2011     1.389961               False   \n",
       "3                   6  ...         2012     2.800149               False   \n",
       "4                   2  ...         2010     1.999784               False   \n",
       "\n",
       "   is_dropoff_near_jfk  is_pickup_near_lgr  is_dropoff_near_lgr  \\\n",
       "0                False               False                False   \n",
       "1                False               False                False   \n",
       "2                False               False                False   \n",
       "3                False               False                False   \n",
       "4                False               False                False   \n",
       "\n",
       "   is_pickup_near_newark  is_dropoff_near_newark  pickup_borough  \\\n",
       "0                  False                   False          queens   \n",
       "1                  False                   False       manhattan   \n",
       "2                  False                   False       manhattan   \n",
       "3                  False                   False       manhattan   \n",
       "4                  False                   False       manhattan   \n",
       "\n",
       "  dropoff_borough  \n",
       "0          queens  \n",
       "1       manhattan  \n",
       "2       manhattan  \n",
       "3       manhattan  \n",
       "4       manhattan  \n",
       "\n",
       "[5 rows x 21 columns]"
      ]
     },
     "execution_count": 22,
     "metadata": {},
     "output_type": "execute_result"
    }
   ],
   "source": [
    "train.head()"
   ]
  },
  {
   "cell_type": "code",
   "execution_count": 23,
   "metadata": {},
   "outputs": [
    {
     "data": {
      "text/plain": [
       "Index(['fare_amount', 'pickup_datetime', 'pickup_longitude', 'pickup_latitude',\n",
       "       'dropoff_longitude', 'dropoff_latitude', 'pickup_date', 'pickup_day',\n",
       "       'pickup_hour', 'pickup_day_of_week', 'pickup_month', 'pickup_year',\n",
       "       'distance_km', 'is_pickup_near_jfk', 'is_dropoff_near_jfk',\n",
       "       'is_pickup_near_lgr', 'is_dropoff_near_lgr', 'is_pickup_near_newark',\n",
       "       'is_dropoff_near_newark', 'pickup_borough', 'dropoff_borough'],\n",
       "      dtype='object')"
      ]
     },
     "execution_count": 23,
     "metadata": {},
     "output_type": "execute_result"
    }
   ],
   "source": [
    "train.columns"
   ]
  },
  {
   "cell_type": "code",
   "execution_count": 24,
   "metadata": {},
   "outputs": [],
   "source": [
    "train=train.drop(['pickup_datetime','pickup_date'],axis=1)\n",
    "test=test.drop(['pickup_datetime','pickup_date'],axis=1)\n",
    "train=pd.get_dummies(train)\n",
    "test=pd.get_dummies(test)"
   ]
  },
  {
   "cell_type": "code",
   "execution_count": 25,
   "metadata": {},
   "outputs": [
    {
     "data": {
      "text/plain": [
       "((15698, 29), (9914, 28))"
      ]
     },
     "execution_count": 25,
     "metadata": {},
     "output_type": "execute_result"
    }
   ],
   "source": [
    "train.shape,test.shape"
   ]
  },
  {
   "cell_type": "code",
   "execution_count": 26,
   "metadata": {},
   "outputs": [],
   "source": [
    "#calculating pickup distance from airports and main city centers\n",
    "def distance(lat1,lon1,lat2,lon2):\n",
    "    p = 0.017453292519943295 # Pi/180\n",
    "    a = 0.5 - np.cos((lat2 - lat1) * p)/2 + np.cos(lat1 * p) * np.cos(lat2 * p) * (1 - np.cos((lon2 - lon1) * p)) / 2\n",
    "    return 0.6213712 * 12742 * np.arcsin(np.sqrt(a))\n",
    "lgr=(-73.8733, 40.7746)\n",
    "jfk=(-73.7900, 40.6437)\n",
    "ewr=(-74.1843, 40.6924)\n",
    "manhattan=(-73.9664, 40.7909)\n",
    "queens=(-73.8317, 40.7038)\n",
    "brooklyn=(-73.9489, 40.6551)\n",
    "bronx=(-73.8568, 40.8572)\n",
    "staten_island=(-74.1540, 40.5725)"
   ]
  },
  {
   "cell_type": "code",
   "execution_count": 27,
   "metadata": {},
   "outputs": [],
   "source": [
    "test['pickup_distance_jfk']=test.apply(lambda row:distance(row['pickup_latitude'],row['pickup_longitude'],jfk[1],jfk[0]),axis=1)\n",
    "test['dropoff_distance_jfk']=test.apply(lambda row:distance(row['dropoff_latitude'],row['dropoff_longitude'],jfk[1],jfk[0]),axis=1)\n",
    "test['pickup_distance_ewr']=test.apply(lambda row:distance(row['pickup_latitude'],row['pickup_longitude'],ewr[1],ewr[0]),axis=1)\n",
    "test['dropoff_distance_ewr']=test.apply(lambda row:distance(row['dropoff_latitude'],row['dropoff_longitude'],ewr[1],ewr[0]),axis=1)\n",
    "test['pickup_distance_laguardia']=test.apply(lambda row:distance(row['pickup_latitude'],row['pickup_longitude'],lgr[1],lgr[0]),axis=1)\n",
    "test['dropoff_distance_laguardia']=test.apply(lambda row:distance(row['dropoff_latitude'],row['dropoff_longitude'],lgr[1],lgr[0]),axis=1)\n",
    "\n",
    "train['pickup_distance_jfk']=train.apply(lambda row:distance(row['pickup_latitude'],row['pickup_longitude'],jfk[1],jfk[0]),axis=1)\n",
    "train['dropoff_distance_jfk']=train.apply(lambda row:distance(row['dropoff_latitude'],row['dropoff_longitude'],jfk[1],jfk[0]),axis=1)\n",
    "train['pickup_distance_ewr']=train.apply(lambda row:distance(row['pickup_latitude'],row['pickup_longitude'],ewr[1],ewr[0]),axis=1)\n",
    "train['dropoff_distance_ewr']=train.apply(lambda row:distance(row['dropoff_latitude'],row['dropoff_longitude'],ewr[1],ewr[0]),axis=1)\n",
    "train['pickup_distance_laguardia']=train.apply(lambda row:distance(row['pickup_latitude'],row['pickup_longitude'],lgr[1],lgr[0]),axis=1)\n",
    "train['dropoff_distance_laguardia']=train.apply(lambda row:distance(row['dropoff_latitude'],row['dropoff_longitude'],lgr[1],lgr[0]),axis=1)"
   ]
  },
  {
   "cell_type": "code",
   "execution_count": 28,
   "metadata": {},
   "outputs": [],
   "source": [
    "test['pickup_distance_manhattan']=test.apply(lambda row:distance(row['pickup_latitude'],row['pickup_longitude'],manhattan[1],manhattan[0]),axis=1)\n",
    "test['pickup_distance_queens']=test.apply(lambda row:distance(row['pickup_latitude'],row['pickup_longitude'],queens[1],queens[0]),axis=1)\n",
    "test['pickup_distance_brooklyn']=test.apply(lambda row:distance(row['pickup_latitude'],row['pickup_longitude'],brooklyn[1],brooklyn[0]),axis=1)\n",
    "test['pickup_distance_bronx']=test.apply(lambda row:distance(row['pickup_latitude'],row['pickup_longitude'],bronx[1],bronx[0]),axis=1)\n",
    "test['pickup_distance_statenisland']=test.apply(lambda row:distance(row['pickup_latitude'],row['pickup_longitude'],staten_island[1],staten_island[0]),axis=1)\n",
    "\n",
    "test['dropoff_distance_manhattan']=test.apply(lambda row:distance(row['dropoff_latitude'],row['dropoff_longitude'],manhattan[1],manhattan[0]),axis=1)\n",
    "test['dropoff_distance_queens']=test.apply(lambda row:distance(row['dropoff_latitude'],row['dropoff_longitude'],queens[1],queens[0]),axis=1)\n",
    "test['dropoff_distance_brooklyn']=test.apply(lambda row:distance(row['dropoff_latitude'],row['dropoff_longitude'],brooklyn[1],brooklyn[0]),axis=1)\n",
    "test['dropoff_distance_bronx']=test.apply(lambda row:distance(row['dropoff_latitude'],row['dropoff_longitude'],bronx[1],bronx[0]),axis=1)\n",
    "test['dropoff_distance_statenisland']=test.apply(lambda row:distance(row['dropoff_latitude'],row['dropoff_longitude'],staten_island[1],staten_island[0]),axis=1)\n"
   ]
  },
  {
   "cell_type": "code",
   "execution_count": 29,
   "metadata": {},
   "outputs": [],
   "source": [
    "train['pickup_distance_manhattan']=train.apply(lambda row:distance(row['pickup_latitude'],row['pickup_longitude'],manhattan[1],manhattan[0]),axis=1)\n",
    "train['pickup_distance_queens']=train.apply(lambda row:distance(row['pickup_latitude'],row['pickup_longitude'],queens[1],queens[0]),axis=1)\n",
    "train['pickup_distance_brooklyn']=train.apply(lambda row:distance(row['pickup_latitude'],row['pickup_longitude'],brooklyn[1],brooklyn[0]),axis=1)\n",
    "train['pickup_distance_bronx']=train.apply(lambda row:distance(row['pickup_latitude'],row['pickup_longitude'],bronx[1],bronx[0]),axis=1)\n",
    "train['pickup_distance_statenisland']=train.apply(lambda row:distance(row['pickup_latitude'],row['pickup_longitude'],staten_island[1],staten_island[0]),axis=1)\n",
    "\n",
    "train['dropoff_distance_manhattan']=train.apply(lambda row:distance(row['dropoff_latitude'],row['dropoff_longitude'],manhattan[1],manhattan[0]),axis=1)\n",
    "train['dropoff_distance_queens']=train.apply(lambda row:distance(row['dropoff_latitude'],row['dropoff_longitude'],queens[1],queens[0]),axis=1)\n",
    "train['dropoff_distance_brooklyn']=train.apply(lambda row:distance(row['dropoff_latitude'],row['dropoff_longitude'],brooklyn[1],brooklyn[0]),axis=1)\n",
    "train['dropoff_distance_bronx']=train.apply(lambda row:distance(row['dropoff_latitude'],row['dropoff_longitude'],bronx[1],bronx[0]),axis=1)\n",
    "train['dropoff_distance_statenisland']=train.apply(lambda row:distance(row['dropoff_latitude'],row['dropoff_longitude'],staten_island[1],staten_island[0]),axis=1)\n"
   ]
  },
  {
   "cell_type": "code",
   "execution_count": 30,
   "metadata": {},
   "outputs": [
    {
     "data": {
      "text/plain": [
       "((9914, 44), (15698, 45))"
      ]
     },
     "execution_count": 30,
     "metadata": {},
     "output_type": "execute_result"
    }
   ],
   "source": [
    "test.shape, train.shape"
   ]
  },
  {
   "cell_type": "code",
   "execution_count": 31,
   "metadata": {},
   "outputs": [
    {
     "name": "stdout",
     "output_type": "stream",
     "text": [
      "Shape of Training Features (12558, 44)\n",
      "Shape of Validation Features  (3140, 44)\n"
     ]
    }
   ],
   "source": [
    "X_train, X_test, Y_train, Y_test=processDataForModelling(train,'fare_amount',drop_cols=[],is_train=True,split=0.2)"
   ]
  },
  {
   "cell_type": "code",
   "execution_count": 32,
   "metadata": {},
   "outputs": [
    {
     "name": "stdout",
     "output_type": "stream",
     "text": [
      "Shape of Test Data (9914, 44)\n"
     ]
    }
   ],
   "source": [
    "test=processDataForModelling(test,'fare_amount',drop_cols=[],is_train=False,split=0.2)"
   ]
  },
  {
   "cell_type": "code",
   "execution_count": 33,
   "metadata": {},
   "outputs": [],
   "source": [
    "X_train.to_csv(\"X_train_cleaned_with_all_features.csv\",index=False)\n",
    "X_test.to_csv(\"X_test_cleaned_with_all_features.csv\",index=False)\n",
    "test.to_csv(\"cleaned_test_with_all_features.csv\",index=False)"
   ]
  },
  {
   "cell_type": "code",
   "execution_count": 34,
   "metadata": {},
   "outputs": [
    {
     "name": "stdout",
     "output_type": "stream",
     "text": [
      "[5]\tcv_agg's rmse: 6.48247 + 0.405877\n",
      "[10]\tcv_agg's rmse: 5.10944 + 0.370785\n",
      "[15]\tcv_agg's rmse: 4.46539 + 0.385838\n",
      "[20]\tcv_agg's rmse: 4.1674 + 0.388433\n",
      "[25]\tcv_agg's rmse: 4.03728 + 0.390754\n",
      "[30]\tcv_agg's rmse: 3.95028 + 0.395633\n",
      "[35]\tcv_agg's rmse: 3.89602 + 0.403366\n",
      "[40]\tcv_agg's rmse: 3.86181 + 0.406721\n",
      "[45]\tcv_agg's rmse: 3.84119 + 0.411543\n",
      "[50]\tcv_agg's rmse: 3.82295 + 0.412072\n",
      "[55]\tcv_agg's rmse: 3.81396 + 0.41432\n",
      "[60]\tcv_agg's rmse: 3.81063 + 0.411178\n",
      "[65]\tcv_agg's rmse: 3.80964 + 0.412428\n",
      "[70]\tcv_agg's rmse: 3.80429 + 0.412986\n",
      "[75]\tcv_agg's rmse: 3.80118 + 0.410784\n",
      "[80]\tcv_agg's rmse: 3.79876 + 0.407972\n",
      "[85]\tcv_agg's rmse: 3.7903 + 0.408313\n",
      "[90]\tcv_agg's rmse: 3.7867 + 0.404683\n",
      "[95]\tcv_agg's rmse: 3.78221 + 0.405132\n",
      "[100]\tcv_agg's rmse: 3.78547 + 0.408049\n"
     ]
    }
   ],
   "source": [
    "train_data=lgb.Dataset(X_train,label=Y_train)\n",
    "param = {'num_leaves':10, 'num_trees':100, 'objective':'regression','metric':'l2_root'}\n",
    "cv_results = lgb.cv(param, train_data, num_boost_round=100, nfold=15,verbose_eval=5, early_stopping_rounds=15,stratified=False)"
   ]
  },
  {
   "cell_type": "code",
   "execution_count": 35,
   "metadata": {},
   "outputs": [
    {
     "name": "stdout",
     "output_type": "stream",
     "text": [
      "Best num_boost_round: 95\n"
     ]
    }
   ],
   "source": [
    "print('Best num_boost_round:', len(cv_results['rmse-mean']))"
   ]
  },
  {
   "cell_type": "code",
   "execution_count": 36,
   "metadata": {},
   "outputs": [
    {
     "name": "stdout",
     "output_type": "stream",
     "text": [
      "RMSE for Light GBM with Feature Engineering is  4.026489559596577\n"
     ]
    }
   ],
   "source": [
    "lgb_bst=lgb.train(param,train_data,len(cv_results['rmse-mean']))\n",
    "lgb_pred = lgb_bst.predict(X_test)\n",
    "lgb_rmse=np.sqrt(mean_squared_error(lgb_pred, Y_test))\n",
    "print(\"RMSE for Light GBM with Feature Engineering is \",lgb_rmse)"
   ]
  },
  {
   "cell_type": "code",
   "execution_count": 37,
   "metadata": {},
   "outputs": [
    {
     "name": "stdout",
     "output_type": "stream",
     "text": [
      "Train RMSE for Light GBM with Feature Engineering is 3.2356822599839834\n",
      "Variance of Light GBM with Feature Engineering is  -0.7908072996125934\n"
     ]
    }
   ],
   "source": [
    "lgb_train_rmse=np.sqrt(mean_squared_error(lgb_bst.predict(X_train),Y_train))\n",
    "print(\"Train RMSE for Light GBM with Feature Engineering is\", lgb_train_rmse)\n",
    "variance=lgb_train_rmse - lgb_rmse\n",
    "print(\"Variance of Light GBM with Feature Engineering is \", variance)"
   ]
  },
  {
   "cell_type": "markdown",
   "metadata": {},
   "source": [
    "With Feature Engineering, the RMSE has decreased from 4.866 to 4.026. The variance of the model has also come down from 0.890 to 0.790."
   ]
  },
  {
   "cell_type": "markdown",
   "metadata": {},
   "source": [
    "Tuning Light GBM\n",
    "\n",
    "max_depth - this parameter is used to handle overfitting. If model overfits - reduce this value\n",
    "min_data_in_leaf - this is the minimum number of records in each leaf - increase this value to reduce overfitting\n",
    "learning rate - impact of each tree on the final outcome - smaller learning rate with more iterations increases the accuracy\n",
    "num_leaves - this is the main factor that effects the model.\n",
    "Baggin_fraction - specifies the fraction of data to be used for each iteration and is generally used to speed up the training and avoid overfitting\n",
    "feature_fraction - specifies fraction of features to be used in each iteration"
   ]
  },
  {
   "cell_type": "code",
   "execution_count": 48,
   "metadata": {},
   "outputs": [],
   "source": [
    "param={'metric': 'l2_root',\n",
    " \n",
    " 'objective': 'regression',\n",
    " 'verbose': 1,\n",
    "      } \n",
    "gridparams={\n",
    "    'learning_rate':[0.1,0.75,0.005,0.025],\n",
    "    'num_leaves':[5,8],\n",
    "    'bagging_freq':[10,20],\n",
    "    'bagging_fraction':[0.85,1,0.9,0.95],\n",
    "    'boosting_type':['gbdt'],\n",
    "    'max_depth':[-1,6,5]\n",
    "}\n"
   ]
  },
  {
   "cell_type": "code",
   "execution_count": 49,
   "metadata": {},
   "outputs": [],
   "source": [
    "mdl = lgb.LGBMRegressor(\n",
    "          objective = 'regression',\n",
    "          n_jobs = -1, # Updated from 'nthread'\n",
    "          verbose=1,\n",
    "          metric='l2_root')"
   ]
  },
  {
   "cell_type": "code",
   "execution_count": 50,
   "metadata": {},
   "outputs": [],
   "source": [
    "grid = GridSearchCV(mdl, gridparams,\n",
    "                    verbose=1,\n",
    "                    cv=3,\n",
    "                    n_jobs=-1)"
   ]
  },
  {
   "cell_type": "code",
   "execution_count": 51,
   "metadata": {},
   "outputs": [
    {
     "name": "stdout",
     "output_type": "stream",
     "text": [
      "Fitting 3 folds for each of 192 candidates, totalling 576 fits\n"
     ]
    },
    {
     "name": "stderr",
     "output_type": "stream",
     "text": [
      "[Parallel(n_jobs=-1)]: Using backend LokyBackend with 4 concurrent workers.\n",
      "[Parallel(n_jobs=-1)]: Done  42 tasks      | elapsed:    7.1s\n",
      "[Parallel(n_jobs=-1)]: Done 192 tasks      | elapsed:   33.6s\n",
      "[Parallel(n_jobs=-1)]: Done 442 tasks      | elapsed:  1.4min\n",
      "[Parallel(n_jobs=-1)]: Done 576 out of 576 | elapsed:  1.8min finished\n"
     ]
    },
    {
     "data": {
      "text/plain": [
       "GridSearchCV(cv=3, error_score='raise-deprecating',\n",
       "       estimator=LGBMRegressor(boosting_type='gbdt', class_weight=None, colsample_bytree=1.0,\n",
       "       importance_type='split', learning_rate=0.1, max_depth=-1,\n",
       "       metric='l2_root', min_child_samples=20, min_child_weight=0.001,\n",
       "       min_split_gain=0.0, n_estimators=100, n_jobs=-1, num_leaves=31,\n",
       "       objective='regression', random_state=None, reg_alpha=0.0,\n",
       "       reg_lambda=0.0, silent=True, subsample=1.0,\n",
       "       subsample_for_bin=200000, subsample_freq=0, verbose=1),\n",
       "       fit_params=None, iid='warn', n_jobs=-1,\n",
       "       param_grid={'learning_rate': [0.1, 0.75, 0.005, 0.025], 'num_leaves': [5, 8], 'bagging_freq': [10, 20], 'bagging_fraction': [0.85, 1, 0.9, 0.95], 'boosting_type': ['gbdt'], 'max_depth': [-1, 6, 5]},\n",
       "       pre_dispatch='2*n_jobs', refit=True, return_train_score='warn',\n",
       "       scoring=None, verbose=1)"
      ]
     },
     "execution_count": 51,
     "metadata": {},
     "output_type": "execute_result"
    }
   ],
   "source": [
    "grid.fit(X_train,Y_train)"
   ]
  },
  {
   "cell_type": "code",
   "execution_count": 52,
   "metadata": {},
   "outputs": [
    {
     "data": {
      "text/plain": [
       "{'bagging_fraction': 0.85,\n",
       " 'bagging_freq': 20,\n",
       " 'boosting_type': 'gbdt',\n",
       " 'learning_rate': 0.1,\n",
       " 'max_depth': 6,\n",
       " 'num_leaves': 8}"
      ]
     },
     "execution_count": 52,
     "metadata": {},
     "output_type": "execute_result"
    }
   ],
   "source": [
    "grid.best_params_"
   ]
  },
  {
   "cell_type": "code",
   "execution_count": 53,
   "metadata": {},
   "outputs": [],
   "source": [
    "bst_params={'metric': 'l2_root',\n",
    " 'num_leaves': grid.best_params_['num_leaves'],\n",
    " \n",
    "  'learning_rate':grid.best_params_['learning_rate'],\n",
    "  #'n_estimators':grid.best_params_['n_estimators'],\n",
    " 'objective': 'regression',\n",
    " 'verbose': 1,\n",
    " }"
   ]
  },
  {
   "cell_type": "code",
   "execution_count": 54,
   "metadata": {},
   "outputs": [
    {
     "name": "stdout",
     "output_type": "stream",
     "text": [
      "[5]\tcv_agg's rmse: 6.53503 + 0.256613\n",
      "[10]\tcv_agg's rmse: 5.18192 + 0.244756\n",
      "[15]\tcv_agg's rmse: 4.55145 + 0.23331\n",
      "[20]\tcv_agg's rmse: 4.26999 + 0.217397\n",
      "[25]\tcv_agg's rmse: 4.11968 + 0.212846\n",
      "[30]\tcv_agg's rmse: 4.02386 + 0.214539\n",
      "[35]\tcv_agg's rmse: 3.96548 + 0.210934\n",
      "[40]\tcv_agg's rmse: 3.92307 + 0.21109\n",
      "[45]\tcv_agg's rmse: 3.90231 + 0.218893\n",
      "[50]\tcv_agg's rmse: 3.88031 + 0.221461\n",
      "[55]\tcv_agg's rmse: 3.86445 + 0.222923\n",
      "[60]\tcv_agg's rmse: 3.85346 + 0.222765\n",
      "[65]\tcv_agg's rmse: 3.84443 + 0.221468\n",
      "[70]\tcv_agg's rmse: 3.83709 + 0.221069\n",
      "[75]\tcv_agg's rmse: 3.83286 + 0.21741\n",
      "[80]\tcv_agg's rmse: 3.82884 + 0.22264\n",
      "[85]\tcv_agg's rmse: 3.82767 + 0.223889\n",
      "[90]\tcv_agg's rmse: 3.82758 + 0.219137\n",
      "[95]\tcv_agg's rmse: 3.82162 + 0.215585\n",
      "[100]\tcv_agg's rmse: 3.81777 + 0.21576\n"
     ]
    }
   ],
   "source": [
    "cv_results = lgb.cv(bst_params, train_data, num_boost_round=100, nfold=5,verbose_eval=5, early_stopping_rounds=20,stratified=False)"
   ]
  },
  {
   "cell_type": "code",
   "execution_count": 55,
   "metadata": {},
   "outputs": [
    {
     "name": "stdout",
     "output_type": "stream",
     "text": [
      "Best num_boost_round: 100\n"
     ]
    }
   ],
   "source": [
    "print('Best num_boost_round:', len(cv_results['rmse-mean']))"
   ]
  },
  {
   "cell_type": "code",
   "execution_count": 56,
   "metadata": {},
   "outputs": [],
   "source": [
    "lgb_bst=lgb.train(bst_params,train_data)"
   ]
  },
  {
   "cell_type": "code",
   "execution_count": 57,
   "metadata": {},
   "outputs": [
    {
     "name": "stdout",
     "output_type": "stream",
     "text": [
      "RMSE for Light GBM with Feature Engineering is  4.0703706498743175\n",
      "Train RMSE for Light GBM with Feature Engineering is 3.34888866436899\n",
      "Variance of Light GBM with Feature Engineering is  -0.7214819855053274\n"
     ]
    }
   ],
   "source": [
    "lgb_pred = lgb_bst.predict(X_test)\n",
    "lgb_rmse=np.sqrt(mean_squared_error(lgb_pred, Y_test))\n",
    "print(\"RMSE for Light GBM with Feature Engineering is \",lgb_rmse)\n",
    "lgb_train_rmse=np.sqrt(mean_squared_error(lgb_bst.predict(X_train),Y_train))\n",
    "print(\"Train RMSE for Light GBM with Feature Engineering is\", lgb_train_rmse)\n",
    "variance=lgb_train_rmse - lgb_rmse\n",
    "print(\"Variance of Light GBM with Feature Engineering is \", variance)"
   ]
  },
  {
   "cell_type": "code",
   "execution_count": 58,
   "metadata": {},
   "outputs": [
    {
     "data": {
      "text/plain": [
       "<matplotlib.axes._subplots.AxesSubplot at 0x2a50179e630>"
      ]
     },
     "execution_count": 58,
     "metadata": {},
     "output_type": "execute_result"
    },
    {
     "data": {
      "image/png": "[encoded data removed]",
      "text/plain": [
       "<Figure size 720x1080 with 1 Axes>"
      ]
     },
     "metadata": {
      "needs_background": "light"
     },
     "output_type": "display_data"
    }
   ],
   "source": [
    "lgbm_feature_importance=sorted(zip(map(lambda x: round(x, 4),lgb_bst.feature_importance()), X_train.columns),reverse=True)\n",
    "plt.figure(figsize=(10,15))\n",
    "sns.barplot([imp for imp,feature in lgbm_feature_importance],[feature for imp,feature in lgbm_feature_importance])\n"
   ]
  },
  {
   "cell_type": "code",
   "execution_count": 59,
   "metadata": {},
   "outputs": [
    {
     "data": {
      "text/plain": [
       "<matplotlib.axes._subplots.AxesSubplot at 0x2a50799fcc0>"
      ]
     },
     "execution_count": 59,
     "metadata": {},
     "output_type": "execute_result"
    },
    {
     "data": {
      "image/png": "[encoded data removed]",
      "text/plain": [
       "<Figure size 432x288 with 1 Axes>"
      ]
     },
     "metadata": {
      "needs_background": "light"
     },
     "output_type": "display_data"
    }
   ],
   "source": [
    "sns.kdeplot((Y_test),label='actual fare amount')\n",
    "sns.kdeplot((lgb_pred),label='predicted fare amount')"
   ]
  },
  {
   "cell_type": "code",
   "execution_count": null,
   "metadata": {},
   "outputs": [],
   "source": []
  },
  {
   "cell_type": "code",
   "execution_count": null,
   "metadata": {},
   "outputs": [],
   "source": []
  }
 ],
 "metadata": {
  "kernelspec": {
   "display_name": "Python 3",
   "language": "python",
   "name": "python3"
  },
  "language_info": {
   "codemirror_mode": {
    "name": "ipython",
    "version": 3
   },
   "file_extension": ".py",
   "mimetype": "text/x-python",
   "name": "python",
   "nbconvert_exporter": "python",
   "pygments_lexer": "ipython3",
   "version": "3.6.8"
  }
 },
 "nbformat": 4,
 "nbformat_minor": 2
}
